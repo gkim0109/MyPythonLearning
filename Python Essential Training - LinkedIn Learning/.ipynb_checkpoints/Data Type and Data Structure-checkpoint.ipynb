{
 "cells": [
  {
   "cell_type": "markdown",
   "id": "b046f66c",
   "metadata": {},
   "source": [
    "# Data Type\n",
    "\n",
    "## Ints and Floats\n",
    "\n",
    "When you mix floats and integer in the artihematic operation or perform division, python converts the variable into floats to account for potential decimal places"
   ]
  },
  {
   "cell_type": "code",
   "execution_count": 1,
   "id": "bf4daf47",
   "metadata": {},
   "outputs": [
    {
     "data": {
      "text/plain": [
       "5.0"
      ]
     },
     "execution_count": 1,
     "metadata": {},
     "output_type": "execute_result"
    }
   ],
   "source": [
    "20 / 4"
   ]
  },
  {
   "cell_type": "code",
   "execution_count": 4,
   "id": "455f505c",
   "metadata": {},
   "outputs": [
    {
     "data": {
      "text/plain": [
       "8.0"
      ]
     },
     "execution_count": 4,
     "metadata": {},
     "output_type": "execute_result"
    }
   ],
   "source": [
    "4 + 4.0"
   ]
  },
  {
   "cell_type": "code",
   "execution_count": 6,
   "id": "b3962d08",
   "metadata": {},
   "outputs": [
    {
     "data": {
      "text/plain": [
       "16.0"
      ]
     },
     "execution_count": 6,
     "metadata": {},
     "output_type": "execute_result"
    }
   ],
   "source": [
    "4 * 4.0"
   ]
  },
  {
   "cell_type": "code",
   "execution_count": 8,
   "id": "1ab9e93a",
   "metadata": {},
   "outputs": [
    {
     "data": {
      "text/plain": [
       "int"
      ]
     },
     "execution_count": 8,
     "metadata": {},
     "output_type": "execute_result"
    }
   ],
   "source": [
    "#You can convert between floats to int using casting with data class\n",
    "x = int(4.0)\n",
    "type(x)"
   ]
  },
  {
   "cell_type": "code",
   "execution_count": 10,
   "id": "84e93e7a",
   "metadata": {},
   "outputs": [
    {
     "data": {
      "text/plain": [
       "4"
      ]
     },
     "execution_count": 10,
     "metadata": {},
     "output_type": "execute_result"
    }
   ],
   "source": [
    "#When you cast from floats to int, python simply get rid of the decimal places\n",
    "int(4.9)"
   ]
  },
  {
   "cell_type": "code",
   "execution_count": null,
   "id": "fcbef3a1",
   "metadata": {},
   "outputs": [],
   "source": [
    "#To round to the nearest integer you have to use the round function\n"
   ]
  },
  {
   "cell_type": "code",
   "execution_count": 11,
   "id": "7362ad87",
   "metadata": {},
   "outputs": [
    {
     "data": {
      "text/plain": [
       "5"
      ]
     },
     "execution_count": 11,
     "metadata": {},
     "output_type": "execute_result"
    }
   ],
   "source": [
    "round(4.9)"
   ]
  },
  {
   "cell_type": "code",
   "execution_count": 12,
   "id": "874fcf63",
   "metadata": {},
   "outputs": [
    {
     "data": {
      "text/plain": [
       "4.666666666666667"
      ]
     },
     "execution_count": 12,
     "metadata": {},
     "output_type": "execute_result"
    }
   ],
   "source": [
    "#Due to the limitation of the memory, python will apply approximation. You have to beaware of potential rounding error\n",
    "14/3"
   ]
  },
  {
   "cell_type": "markdown",
   "id": "c2e3f479",
   "metadata": {},
   "source": [
    "## Other Types of Numbers"
   ]
  },
  {
   "cell_type": "code",
   "execution_count": 27,
   "id": "10a0e149",
   "metadata": {},
   "outputs": [
    {
     "data": {
      "text/plain": [
       "73"
      ]
     },
     "execution_count": 27,
     "metadata": {},
     "output_type": "execute_result"
    }
   ],
   "source": [
    "#You can also cast from string to number\n",
    "int('100')\n",
    "\n",
    "#Syntax: int(x, base)\n",
    "#x [optional]: string representation of integer value, defaults to 0, if no value provided.\n",
    "#base [optional]: (integer value) base of the number.\n",
    "\n",
    "#Example: 1 * 4^3 + 0 * 4^2 + 2 * 4^1 + 1 * 4^0\n",
    "int('1021',4)\n"
   ]
  },
  {
   "cell_type": "code",
   "execution_count": 14,
   "id": "a598b298",
   "metadata": {},
   "outputs": [
    {
     "data": {
      "text/plain": [
       "0.19999999999999996"
      ]
     },
     "execution_count": 14,
     "metadata": {},
     "output_type": "execute_result"
    }
   ],
   "source": [
    "#You can use decimal module to help alleviate rounding error (specially when you are working with money)\n",
    "1.2-1.0"
   ]
  },
  {
   "cell_type": "code",
   "execution_count": 20,
   "id": "3e7f2213",
   "metadata": {},
   "outputs": [
    {
     "data": {
      "text/plain": [
       "Decimal('0.3333')"
      ]
     },
     "execution_count": 20,
     "metadata": {},
     "output_type": "execute_result"
    }
   ],
   "source": [
    "from decimal import Decimal, getcontext\n",
    "\n",
    "getcontext().prec=4\n",
    "Decimal(1)/Decimal(3)"
   ]
  },
  {
   "cell_type": "markdown",
   "id": "7ad5823d",
   "metadata": {},
   "source": [
    "## Booleans"
   ]
  },
  {
   "cell_type": "code",
   "execution_count": null,
   "id": "8d8539a0",
   "metadata": {},
   "outputs": [],
   "source": []
  }
 ],
 "metadata": {
  "kernelspec": {
   "display_name": "Python 3 (ipykernel)",
   "language": "python",
   "name": "python3"
  },
  "language_info": {
   "codemirror_mode": {
    "name": "ipython",
    "version": 3
   },
   "file_extension": ".py",
   "mimetype": "text/x-python",
   "name": "python",
   "nbconvert_exporter": "python",
   "pygments_lexer": "ipython3",
   "version": "3.11.3"
  }
 },
 "nbformat": 4,
 "nbformat_minor": 5
}
