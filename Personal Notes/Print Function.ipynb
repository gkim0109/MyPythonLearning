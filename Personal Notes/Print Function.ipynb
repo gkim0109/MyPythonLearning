{
 "cells": [
  {
   "cell_type": "markdown",
   "id": "3fb4dd55",
   "metadata": {},
   "source": [
    "# Print Array with Separator"
   ]
  },
  {
   "cell_type": "code",
   "execution_count": 5,
   "id": "36406d8b",
   "metadata": {},
   "outputs": [
    {
     "name": "stdout",
     "output_type": "stream",
     "text": [
      "1 2 3\n"
     ]
    }
   ],
   "source": [
    "#Print functions allows multiple varialbles to be printed with defined separator and end value \n",
    "\n",
    "#This code prints the unpacked array of values using space as separator and print new line after the values\n",
    "# *values means array is unpacked, you can add values separated by a comma too.\n",
    "#The arguments sep, end, and file are optional, but they can prove helpful in formatting output without taking help from a string module.\n",
    "\n",
    "values = [1,2,3]\n",
    "print(*values, sep=' ', end='\\n')\n",
    "\n",
    "#The argument definitions are below:\n",
    "#sep defines the delimiter between the values.\n",
    "#end defines what to print after the values.\n",
    "#file defines the output stream.\n",
    "\n"
   ]
  },
  {
   "cell_type": "code",
   "execution_count": null,
   "id": "145669a5",
   "metadata": {},
   "outputs": [],
   "source": []
  },
  {
   "cell_type": "code",
   "execution_count": null,
   "id": "b2985e2b",
   "metadata": {},
   "outputs": [],
   "source": []
  },
  {
   "cell_type": "code",
   "execution_count": null,
   "id": "d88d9c13",
   "metadata": {},
   "outputs": [],
   "source": []
  },
  {
   "cell_type": "code",
   "execution_count": null,
   "id": "85f4c99e",
   "metadata": {},
   "outputs": [],
   "source": []
  },
  {
   "cell_type": "code",
   "execution_count": null,
   "id": "532cdb01",
   "metadata": {},
   "outputs": [],
   "source": []
  }
 ],
 "metadata": {
  "kernelspec": {
   "display_name": "Python 3 (ipykernel)",
   "language": "python",
   "name": "python3"
  },
  "language_info": {
   "codemirror_mode": {
    "name": "ipython",
    "version": 3
   },
   "file_extension": ".py",
   "mimetype": "text/x-python",
   "name": "python",
   "nbconvert_exporter": "python",
   "pygments_lexer": "ipython3",
   "version": "3.11.3"
  }
 },
 "nbformat": 4,
 "nbformat_minor": 5
}
