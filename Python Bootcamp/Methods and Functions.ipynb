{
 "cells": [
  {
   "cell_type": "code",
   "execution_count": 1,
   "id": "2e910f45",
   "metadata": {},
   "outputs": [
    {
     "name": "stdout",
     "output_type": "stream",
     "text": [
      "Help on built-in function insert:\n",
      "\n",
      "insert(index, object, /) method of builtins.list instance\n",
      "    Insert object before index.\n",
      "\n"
     ]
    }
   ],
   "source": [
    "#You can run the built in help function or documentation to get more details around the function\n",
    "myList = [1,2,3]\n",
    "help(myList.insert)"
   ]
  },
  {
   "cell_type": "code",
   "execution_count": null,
   "id": "c32912af",
   "metadata": {},
   "outputs": [],
   "source": [
    "#Functions - block of code that can be easily executed many times with you rewriting them\n",
    "#Function is created with 'def' keyword with indentation \n",
    "#Example:\n",
    "#def name_of_function(variable(s)): - by convention python use snake casing \n",
    "    #'''Docstring which explain functions.'''\n",
    "    #body of function code \n",
    "#\"return\" statement is used to assign output of the function \n",
    "\n",
    "\n"
   ]
  },
  {
   "cell_type": "code",
   "execution_count": 4,
   "id": "7ff9182f",
   "metadata": {},
   "outputs": [
    {
     "name": "stdout",
     "output_type": "stream",
     "text": [
      "hello Bob!\n",
      "hello Andy!\n"
     ]
    }
   ],
   "source": [
    "#You can assigned default variable values for the function\n",
    "def say_hello(name=\"Bob\"):\n",
    "    print(f'hello {name}!')\n",
    "\n",
    "say_hello() \n",
    "say_hello('Andy')"
   ]
  },
  {
   "cell_type": "code",
   "execution_count": 5,
   "id": "cbd18090",
   "metadata": {},
   "outputs": [],
   "source": [
    "#Because python is not statically typed (dynamic typed), users could pass any variable type into your function.\n",
    "#Therefore, it is good idea to check the variable type"
   ]
  }
 ],
 "metadata": {
  "kernelspec": {
   "display_name": "Python 3 (ipykernel)",
   "language": "python",
   "name": "python3"
  },
  "language_info": {
   "codemirror_mode": {
    "name": "ipython",
    "version": 3
   },
   "file_extension": ".py",
   "mimetype": "text/x-python",
   "name": "python",
   "nbconvert_exporter": "python",
   "pygments_lexer": "ipython3",
   "version": "3.11.3"
  }
 },
 "nbformat": 4,
 "nbformat_minor": 5
}
