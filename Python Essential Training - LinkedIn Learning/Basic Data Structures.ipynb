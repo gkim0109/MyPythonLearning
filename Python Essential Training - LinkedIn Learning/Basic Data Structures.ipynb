{
 "cells": [
  {
   "cell_type": "markdown",
   "id": "92ca2538",
   "metadata": {},
   "source": [
    "# List \n",
    "\n",
    "## List Slicing"
   ]
  },
  {
   "cell_type": "code",
   "execution_count": 8,
   "id": "a1575451",
   "metadata": {},
   "outputs": [
    {
     "name": "stdout",
     "output_type": "stream",
     "text": [
      "[3, 5]\n"
     ]
    }
   ],
   "source": [
    "#list[start:end:step_size]\n",
    "my_list = [1,2,3,4,5]\n",
    "print(my_list[2::2])"
   ]
  },
  {
   "cell_type": "code",
   "execution_count": 9,
   "id": "df47da70",
   "metadata": {},
   "outputs": [
    {
     "name": "stdout",
     "output_type": "stream",
     "text": [
      "[0, 1, 2, 3, 4, 5, 6, 7, 8, 9]\n"
     ]
    }
   ],
   "source": [
    "#range(n) - give you a range from 0 to n-1\n",
    "print(list(range(10)))"
   ]
  },
  {
   "cell_type": "markdown",
   "id": "fa863909",
   "metadata": {},
   "source": [
    "## Modifying Lists"
   ]
  },
  {
   "cell_type": "code",
   "execution_count": 10,
   "id": "77036cce",
   "metadata": {},
   "outputs": [],
   "source": [
    "my_list.append(6)"
   ]
  },
  {
   "cell_type": "code",
   "execution_count": 11,
   "id": "17fc1085",
   "metadata": {},
   "outputs": [
    {
     "name": "stdout",
     "output_type": "stream",
     "text": [
      "[1, 2, 3, 4, 5, 6]\n"
     ]
    }
   ],
   "source": [
    "print(my_list)"
   ]
  },
  {
   "cell_type": "code",
   "execution_count": 13,
   "id": "046b7245",
   "metadata": {},
   "outputs": [],
   "source": [
    "my_list.remove(5)"
   ]
  },
  {
   "cell_type": "code",
   "execution_count": 14,
   "id": "c2b6af3c",
   "metadata": {},
   "outputs": [
    {
     "data": {
      "text/plain": [
       "[1, 2, 3, 4, 6]"
      ]
     },
     "execution_count": 14,
     "metadata": {},
     "output_type": "execute_result"
    }
   ],
   "source": [
    "my_list"
   ]
  },
  {
   "cell_type": "code",
   "execution_count": 15,
   "id": "bc7cbba9",
   "metadata": {},
   "outputs": [
    {
     "data": {
      "text/plain": [
       "6"
      ]
     },
     "execution_count": 15,
     "metadata": {},
     "output_type": "execute_result"
    }
   ],
   "source": [
    "my_list.pop()"
   ]
  },
  {
   "cell_type": "code",
   "execution_count": 16,
   "id": "99257539",
   "metadata": {},
   "outputs": [
    {
     "name": "stdout",
     "output_type": "stream",
     "text": [
      "[1, 2, 3, 4]\n"
     ]
    }
   ],
   "source": [
    "print(my_list)"
   ]
  },
  {
   "cell_type": "code",
   "execution_count": 18,
   "id": "29d2e26f",
   "metadata": {},
   "outputs": [
    {
     "name": "stdout",
     "output_type": "stream",
     "text": [
      "[]\n"
     ]
    }
   ],
   "source": [
    "#Nice boolean trick to remove items from the list\n",
    "while len(my_list):\n",
    "    my_list.pop()\n",
    "    \n",
    "print(my_list)"
   ]
  },
  {
   "cell_type": "code",
   "execution_count": 20,
   "id": "069195a7",
   "metadata": {},
   "outputs": [
    {
     "name": "stdout",
     "output_type": "stream",
     "text": [
      "[1, 2, 3, 4]\n"
     ]
    }
   ],
   "source": [
    "#when you assign variable to a list, they simply have pointer to the specific location of the memory \n",
    "\n",
    "a = [1,2,3]\n",
    "b = a \n",
    "\n",
    "#modifying variable a will modify the same list as b\n",
    "a.append(4)\n",
    "print(b)"
   ]
  },
  {
   "cell_type": "code",
   "execution_count": 26,
   "id": "95c361cb",
   "metadata": {},
   "outputs": [
    {
     "name": "stdout",
     "output_type": "stream",
     "text": [
      "[1, 2, 3, 4, 5, 5, 5]\n",
      "[1, 2, 3, 4, 5, 5, 5, 5]\n"
     ]
    }
   ],
   "source": [
    "#To copy the list to another variable you need to use the copy function\n",
    "b = a.copy()\n",
    "a.append(5)\n",
    "print(b)\n",
    "print(a)"
   ]
  },
  {
   "cell_type": "markdown",
   "id": "53035e92",
   "metadata": {},
   "source": [
    "# Sets & Tuples\n",
    "\n",
    "## Sets\n",
    "You can use set to remove duplicate list values. However, sets is not subscriptable and order does not matter"
   ]
  },
  {
   "cell_type": "code",
   "execution_count": 27,
   "id": "75cb7b55",
   "metadata": {},
   "outputs": [
    {
     "name": "stdout",
     "output_type": "stream",
     "text": [
      "{1, 2, 3, 4}\n"
     ]
    }
   ],
   "source": [
    "#Remove Duplicate\n",
    "my_set = {'a', 'b', 'c'}\n",
    "\n",
    "my_list = [1,2,2,3,3,3,4,4,4,4]\n",
    "print(set(my_list))"
   ]
  },
  {
   "cell_type": "code",
   "execution_count": 31,
   "id": "a7017c65",
   "metadata": {},
   "outputs": [
    {
     "name": "stdout",
     "output_type": "stream",
     "text": [
      "{'d', 'a', 'b', 'c'}\n",
      "{'a', 'b', 'c'}\n"
     ]
    }
   ],
   "source": [
    "#sets are not subscriptable. Therefore, my_set[0] will not work. \n",
    "#You can add/pop/discard element to the set\n",
    "my_set.add('d')\n",
    "print(my_set)\n",
    "my_set.pop()\n",
    "print(my_set)\n",
    "my_set.discard('c')"
   ]
  },
  {
   "cell_type": "code",
   "execution_count": 32,
   "id": "9857595e",
   "metadata": {},
   "outputs": [
    {
     "name": "stdout",
     "output_type": "stream",
     "text": [
      "{'a', 'b'}\n"
     ]
    }
   ],
   "source": [
    "print(my_set)"
   ]
  },
  {
   "cell_type": "markdown",
   "id": "631a8d20",
   "metadata": {},
   "source": [
    "## Tuples"
   ]
  },
  {
   "cell_type": "code",
   "execution_count": 33,
   "id": "9c431a21",
   "metadata": {},
   "outputs": [],
   "source": [
    "my_tuple = ('a','b','c')"
   ]
  },
  {
   "cell_type": "code",
   "execution_count": 35,
   "id": "bfb2abbc",
   "metadata": {},
   "outputs": [
    {
     "data": {
      "text/plain": [
       "tuple"
      ]
     },
     "execution_count": 35,
     "metadata": {},
     "output_type": "execute_result"
    }
   ],
   "source": [
    "#you can't modify tuple. They are more memory efficient compared to the list\n",
    "\n",
    "#Note: Python does not require parenthesis around tuples\n",
    "\n",
    "my_tuple2= 1,2,3\n",
    "type(my_tuple2)\n"
   ]
  },
  {
   "cell_type": "markdown",
   "id": "131ad4e2",
   "metadata": {},
   "source": [
    "## Dictionary\n",
    "\n",
    "Dictionary is key value pair data structures"
   ]
  },
  {
   "cell_type": "code",
   "execution_count": 36,
   "id": "70de2462",
   "metadata": {},
   "outputs": [],
   "source": [
    "animals = {\n",
    "    'a' : 'aardvark',\n",
    "    'b' : 'bear',\n",
    "    'c' : 'cat'\n",
    "}"
   ]
  },
  {
   "cell_type": "code",
   "execution_count": 37,
   "id": "8f0a3d43",
   "metadata": {},
   "outputs": [
    {
     "data": {
      "text/plain": [
       "'aardvark'"
      ]
     },
     "execution_count": 37,
     "metadata": {},
     "output_type": "execute_result"
    }
   ],
   "source": [
    "animals['a']"
   ]
  },
  {
   "cell_type": "code",
   "execution_count": 38,
   "id": "b4877062",
   "metadata": {},
   "outputs": [],
   "source": [
    "#You can modifty value assignment of dictionary\n",
    "animals['a'] = 'antelope'"
   ]
  },
  {
   "cell_type": "code",
   "execution_count": 39,
   "id": "c50784e2",
   "metadata": {},
   "outputs": [
    {
     "name": "stdout",
     "output_type": "stream",
     "text": [
      "{'a': 'antelope', 'b': 'bear', 'c': 'cat'}\n"
     ]
    }
   ],
   "source": [
    "print(animals)"
   ]
  },
  {
   "cell_type": "code",
   "execution_count": 40,
   "id": "a5195d0d",
   "metadata": {},
   "outputs": [
    {
     "data": {
      "text/plain": [
       "3"
      ]
     },
     "execution_count": 40,
     "metadata": {},
     "output_type": "execute_result"
    }
   ],
   "source": [
    "#you can get len of dictionary\n",
    "len(animals)"
   ]
  },
  {
   "cell_type": "code",
   "execution_count": 42,
   "id": "aac3ed61",
   "metadata": {},
   "outputs": [],
   "source": [
    "#You can add list ot the dictionary\n",
    "\n",
    "animals = {\n",
    "    'a' : ['aardvark', 'antelope'],\n",
    "    'b' : ['bear'],\n",
    "    'c' : ['cat'],\n",
    "}"
   ]
  },
  {
   "cell_type": "code",
   "execution_count": 49,
   "id": "3fd3df11",
   "metadata": {},
   "outputs": [],
   "source": [
    "#The dictionary with list can be achieved with defaultdict\n",
    "from collections import defaultdict\n",
    "\n",
    "cars = defaultdict(list)"
   ]
  },
  {
   "cell_type": "code",
   "execution_count": 50,
   "id": "e56d6c47",
   "metadata": {},
   "outputs": [],
   "source": [
    "cars['t'].append('tesla')"
   ]
  },
  {
   "cell_type": "code",
   "execution_count": 51,
   "id": "d127ba1f",
   "metadata": {},
   "outputs": [
    {
     "name": "stdout",
     "output_type": "stream",
     "text": [
      "defaultdict(<class 'list'>, {'t': ['tesla']})\n"
     ]
    }
   ],
   "source": [
    "print(cars)"
   ]
  },
  {
   "cell_type": "markdown",
   "id": "653aed82",
   "metadata": {},
   "source": [
    "# List Comprehensions"
   ]
  },
  {
   "cell_type": "code",
   "execution_count": 56,
   "id": "d6c00a51",
   "metadata": {},
   "outputs": [],
   "source": [
    "my_list = [1,2,3,4,5]\n",
    "double_list = [2 * num for num in my_list]"
   ]
  },
  {
   "cell_type": "code",
   "execution_count": 57,
   "id": "ff4e3914",
   "metadata": {},
   "outputs": [
    {
     "name": "stdout",
     "output_type": "stream",
     "text": [
      "[2, 4, 6, 8, 10]\n"
     ]
    }
   ],
   "source": [
    "print(double_list)"
   ]
  },
  {
   "cell_type": "code",
   "execution_count": 58,
   "id": "c0613b32",
   "metadata": {},
   "outputs": [],
   "source": [
    "#List comprehension can be used to filter list \n",
    "quad_list = [item for item in double_list if item % 4 == 0]"
   ]
  },
  {
   "cell_type": "code",
   "execution_count": 59,
   "id": "a05cc597",
   "metadata": {},
   "outputs": [
    {
     "name": "stdout",
     "output_type": "stream",
     "text": [
      "[4, 8]\n"
     ]
    }
   ],
   "source": [
    "print(quad_list)"
   ]
  },
  {
   "cell_type": "code",
   "execution_count": 60,
   "id": "734b6c7b",
   "metadata": {},
   "outputs": [
    {
     "name": "stdout",
     "output_type": "stream",
     "text": [
      "['My', 'is', 'I', 'in']\n"
     ]
    }
   ],
   "source": [
    "#List comprehension with functions\n",
    "my_str = \"My name is Andy Kim. I live in Beijing\"\n",
    "\n",
    "#code to get word less than 3\n",
    "print([words for words in my_str.split() if len(words) < 3])\n",
    "\n",
    "\n"
   ]
  },
  {
   "cell_type": "markdown",
   "id": "a39b4bb1",
   "metadata": {},
   "source": [
    "## Nested List"
   ]
  },
  {
   "cell_type": "code",
   "execution_count": null,
   "id": "1d123e4c",
   "metadata": {},
   "outputs": [],
   "source": []
  },
  {
   "cell_type": "markdown",
   "id": "5be31bb9",
   "metadata": {},
   "source": [
    "# Dictionary"
   ]
  },
  {
   "cell_type": "code",
   "execution_count": 68,
   "id": "bddbca01",
   "metadata": {},
   "outputs": [],
   "source": [
    "animal_list = [('a','aardvark'),('b','bear'),('c','cat')]\n",
    "\n",
    "#dictionary comprehension\n",
    "animal_dict = {animal[0] : animal[1] for animal in animal_list}"
   ]
  },
  {
   "cell_type": "code",
   "execution_count": 69,
   "id": "02ecc911",
   "metadata": {},
   "outputs": [
    {
     "name": "stdout",
     "output_type": "stream",
     "text": [
      "{'a': 'aardvark', 'b': 'bear', 'c': 'cat'}\n"
     ]
    }
   ],
   "source": [
    "print(animal_dict)"
   ]
  },
  {
   "cell_type": "code",
   "execution_count": 76,
   "id": "9952e2ea",
   "metadata": {},
   "outputs": [],
   "source": [
    "#More elegant way\n",
    "animal_dict = {key : value for key, value in animal_list}"
   ]
  },
  {
   "cell_type": "code",
   "execution_count": 77,
   "id": "56e2dec2",
   "metadata": {},
   "outputs": [
    {
     "name": "stdout",
     "output_type": "stream",
     "text": [
      "{'a': 'aardvark', 'b': 'bear', 'c': 'cat'}\n"
     ]
    }
   ],
   "source": [
    "print(animal_dict)"
   ]
  },
  {
   "cell_type": "markdown",
   "id": "1fea782e",
   "metadata": {},
   "source": [
    "# Challenge\n",
    "\n",
    "Write a function \"encodeString\" that will encode a string like 'AAAAABBBBAAA' as a list of tuples: [('A', 5), ('B', 4), ('A', 3)] meaning that the string has \"5 A's, followed by 4 B's, followed by 3 A's\"\n",
    "\n",
    "Then use that function to compress a string containing \"ASCII Art\" (https://en.wikipedia.org/wiki/ASCII_art)\n",
    "\n",
    "Write a corresponding function \"decodeString\" that will take in a list of tuples and print the original string.\n"
   ]
  },
  {
   "cell_type": "code",
   "execution_count": 79,
   "id": "6995a215",
   "metadata": {},
   "outputs": [],
   "source": [
    "def encodeString(stringVal):\n",
    "    pass\n",
    "\n",
    "def decodeString(encodedList):\n",
    "    pass"
   ]
  },
  {
   "cell_type": "code",
   "execution_count": null,
   "id": "50c2b5c5",
   "metadata": {},
   "outputs": [],
   "source": []
  }
 ],
 "metadata": {
  "kernelspec": {
   "display_name": "Python 3 (ipykernel)",
   "language": "python",
   "name": "python3"
  },
  "language_info": {
   "codemirror_mode": {
    "name": "ipython",
    "version": 3
   },
   "file_extension": ".py",
   "mimetype": "text/x-python",
   "name": "python",
   "nbconvert_exporter": "python",
   "pygments_lexer": "ipython3",
   "version": "3.10.12"
  }
 },
 "nbformat": 4,
 "nbformat_minor": 5
}
