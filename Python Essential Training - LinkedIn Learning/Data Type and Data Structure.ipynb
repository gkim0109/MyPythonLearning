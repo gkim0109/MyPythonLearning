{
 "cells": [
  {
   "cell_type": "markdown",
   "id": "b046f66c",
   "metadata": {},
   "source": [
    "# Data Type\n",
    "\n",
    "## Ints and Floats\n",
    "\n",
    "When you mix floats and integer in the artihematic operation or perform division, python converts the variable into floats to account for potential decimal places"
   ]
  },
  {
   "cell_type": "code",
   "execution_count": 1,
   "id": "bf4daf47",
   "metadata": {},
   "outputs": [
    {
     "data": {
      "text/plain": [
       "5.0"
      ]
     },
     "execution_count": 1,
     "metadata": {},
     "output_type": "execute_result"
    }
   ],
   "source": [
    "20 / 4"
   ]
  },
  {
   "cell_type": "code",
   "execution_count": 4,
   "id": "455f505c",
   "metadata": {},
   "outputs": [
    {
     "data": {
      "text/plain": [
       "8.0"
      ]
     },
     "execution_count": 4,
     "metadata": {},
     "output_type": "execute_result"
    }
   ],
   "source": [
    "4 + 4.0"
   ]
  },
  {
   "cell_type": "code",
   "execution_count": 6,
   "id": "b3962d08",
   "metadata": {},
   "outputs": [
    {
     "data": {
      "text/plain": [
       "16.0"
      ]
     },
     "execution_count": 6,
     "metadata": {},
     "output_type": "execute_result"
    }
   ],
   "source": [
    "4 * 4.0"
   ]
  },
  {
   "cell_type": "code",
   "execution_count": 8,
   "id": "1ab9e93a",
   "metadata": {},
   "outputs": [
    {
     "data": {
      "text/plain": [
       "int"
      ]
     },
     "execution_count": 8,
     "metadata": {},
     "output_type": "execute_result"
    }
   ],
   "source": [
    "#You can convert between floats to int using casting with data class\n",
    "x = int(4.0)\n",
    "type(x)"
   ]
  },
  {
   "cell_type": "code",
   "execution_count": 10,
   "id": "84e93e7a",
   "metadata": {},
   "outputs": [
    {
     "data": {
      "text/plain": [
       "4"
      ]
     },
     "execution_count": 10,
     "metadata": {},
     "output_type": "execute_result"
    }
   ],
   "source": [
    "#When you cast from floats to int, python simply get rid of the decimal places\n",
    "int(4.9)"
   ]
  },
  {
   "cell_type": "code",
   "execution_count": null,
   "id": "fcbef3a1",
   "metadata": {},
   "outputs": [],
   "source": [
    "#To round to the nearest integer you have to use the round function\n"
   ]
  },
  {
   "cell_type": "code",
   "execution_count": 11,
   "id": "7362ad87",
   "metadata": {},
   "outputs": [
    {
     "data": {
      "text/plain": [
       "5"
      ]
     },
     "execution_count": 11,
     "metadata": {},
     "output_type": "execute_result"
    }
   ],
   "source": [
    "round(4.9)"
   ]
  },
  {
   "cell_type": "code",
   "execution_count": 12,
   "id": "874fcf63",
   "metadata": {},
   "outputs": [
    {
     "data": {
      "text/plain": [
       "4.666666666666667"
      ]
     },
     "execution_count": 12,
     "metadata": {},
     "output_type": "execute_result"
    }
   ],
   "source": [
    "#Due to the limitation of the memory, python will apply approximation. You have to beaware of potential rounding error\n",
    "14/3"
   ]
  },
  {
   "cell_type": "markdown",
   "id": "c2e3f479",
   "metadata": {},
   "source": [
    "## Other Types of Numbers"
   ]
  },
  {
   "cell_type": "code",
   "execution_count": 27,
   "id": "10a0e149",
   "metadata": {},
   "outputs": [
    {
     "data": {
      "text/plain": [
       "73"
      ]
     },
     "execution_count": 27,
     "metadata": {},
     "output_type": "execute_result"
    }
   ],
   "source": [
    "#You can also cast from string to number\n",
    "int('100')\n",
    "\n",
    "#Syntax: int(x, base)\n",
    "#x [optional]: string representation of integer value, defaults to 0, if no value provided.\n",
    "#base [optional]: (integer value) base of the number.\n",
    "\n",
    "#Example: 1 * 4^3 + 0 * 4^2 + 2 * 4^1 + 1 * 4^0\n",
    "int('1021',4)\n"
   ]
  },
  {
   "cell_type": "code",
   "execution_count": 14,
   "id": "a598b298",
   "metadata": {},
   "outputs": [
    {
     "data": {
      "text/plain": [
       "0.19999999999999996"
      ]
     },
     "execution_count": 14,
     "metadata": {},
     "output_type": "execute_result"
    }
   ],
   "source": [
    "#You can use decimal module to help alleviate rounding error (specially when you are working with money)\n",
    "1.2-1.0"
   ]
  },
  {
   "cell_type": "code",
   "execution_count": 20,
   "id": "3e7f2213",
   "metadata": {},
   "outputs": [
    {
     "data": {
      "text/plain": [
       "Decimal('0.3333')"
      ]
     },
     "execution_count": 20,
     "metadata": {},
     "output_type": "execute_result"
    }
   ],
   "source": [
    "from decimal import Decimal, getcontext\n",
    "\n",
    "getcontext().prec=4\n",
    "Decimal(1)/Decimal(3)"
   ]
  },
  {
   "cell_type": "markdown",
   "id": "7ad5823d",
   "metadata": {},
   "source": [
    "## Booleans"
   ]
  },
  {
   "cell_type": "code",
   "execution_count": 1,
   "id": "8d8539a0",
   "metadata": {},
   "outputs": [
    {
     "data": {
      "text/plain": [
       "True"
      ]
     },
     "execution_count": 1,
     "metadata": {},
     "output_type": "execute_result"
    }
   ],
   "source": [
    "#Python will cast anything but 0 as true\n",
    "bool(1)"
   ]
  },
  {
   "cell_type": "code",
   "execution_count": 2,
   "id": "07faa2f8",
   "metadata": {},
   "outputs": [
    {
     "data": {
      "text/plain": [
       "False"
      ]
     },
     "execution_count": 2,
     "metadata": {},
     "output_type": "execute_result"
    }
   ],
   "source": [
    "bool(0)"
   ]
  },
  {
   "cell_type": "code",
   "execution_count": 3,
   "id": "30cf7948",
   "metadata": {},
   "outputs": [
    {
     "data": {
      "text/plain": [
       "True"
      ]
     },
     "execution_count": 3,
     "metadata": {},
     "output_type": "execute_result"
    }
   ],
   "source": [
    "bool(-1)"
   ]
  },
  {
   "cell_type": "code",
   "execution_count": 5,
   "id": "beeaf5bd",
   "metadata": {},
   "outputs": [
    {
     "data": {
      "text/plain": [
       "True"
      ]
     },
     "execution_count": 5,
     "metadata": {},
     "output_type": "execute_result"
    }
   ],
   "source": [
    "#For casting string to boolean, only the empty string is falase\n",
    "bool(\"True\")"
   ]
  },
  {
   "cell_type": "code",
   "execution_count": 6,
   "id": "fe7ae884",
   "metadata": {},
   "outputs": [
    {
     "data": {
      "text/plain": [
       "True"
      ]
     },
     "execution_count": 6,
     "metadata": {},
     "output_type": "execute_result"
    }
   ],
   "source": [
    "bool(\"False\")"
   ]
  },
  {
   "cell_type": "code",
   "execution_count": 7,
   "id": "d59d15ca",
   "metadata": {},
   "outputs": [
    {
     "data": {
      "text/plain": [
       "False"
      ]
     },
     "execution_count": 7,
     "metadata": {},
     "output_type": "execute_result"
    }
   ],
   "source": [
    "bool(\"\")"
   ]
  },
  {
   "cell_type": "code",
   "execution_count": 8,
   "id": "0bf14d5d",
   "metadata": {},
   "outputs": [
    {
     "data": {
      "text/plain": [
       "False"
      ]
     },
     "execution_count": 8,
     "metadata": {},
     "output_type": "execute_result"
    }
   ],
   "source": [
    "#Similar empty list and dict are false\n",
    "bool([])"
   ]
  },
  {
   "cell_type": "code",
   "execution_count": 9,
   "id": "2682b2a7",
   "metadata": {},
   "outputs": [
    {
     "data": {
      "text/plain": [
       "False"
      ]
     },
     "execution_count": 9,
     "metadata": {},
     "output_type": "execute_result"
    }
   ],
   "source": [
    "bool({})"
   ]
  },
  {
   "cell_type": "code",
   "execution_count": 10,
   "id": "2c211f81",
   "metadata": {},
   "outputs": [
    {
     "data": {
      "text/plain": [
       "True"
      ]
     },
     "execution_count": 10,
     "metadata": {},
     "output_type": "execute_result"
    }
   ],
   "source": [
    "bool([1,2])"
   ]
  },
  {
   "cell_type": "code",
   "execution_count": 14,
   "id": "896cce27",
   "metadata": {},
   "outputs": [
    {
     "name": "stdout",
     "output_type": "stream",
     "text": [
      "Non empty list\n"
     ]
    }
   ],
   "source": [
    "#This property is useful when you want to perform operation on only non empty list\n",
    "my_list1 = [1,2,3]\n",
    "\n",
    "if bool(my_list1):\n",
    "    print(\"Non empty list\")"
   ]
  },
  {
   "cell_type": "markdown",
   "id": "bf18d18a",
   "metadata": {},
   "source": [
    "## String"
   ]
  },
  {
   "cell_type": "code",
   "execution_count": 15,
   "id": "7eed0854",
   "metadata": {},
   "outputs": [
    {
     "name": "stdout",
     "output_type": "stream",
     "text": [
      "My name\n"
     ]
    }
   ],
   "source": [
    "#slicing \n",
    "name = 'My name is Andy Kim'\n",
    "\n",
    "#Does not include 7\n",
    "print(name[0:7])"
   ]
  },
  {
   "cell_type": "code",
   "execution_count": 16,
   "id": "76cfd292",
   "metadata": {},
   "outputs": [
    {
     "name": "stdout",
     "output_type": "stream",
     "text": [
      "Andy Kim\n"
     ]
    }
   ],
   "source": [
    "print(name[11:])"
   ]
  },
  {
   "cell_type": "code",
   "execution_count": 18,
   "id": "8983753b",
   "metadata": {},
   "outputs": [
    {
     "name": "stdout",
     "output_type": "stream",
     "text": [
      "[3, 4]\n"
     ]
    }
   ],
   "source": [
    "#This will also work in list\n",
    "my_list = [1,2,3,4]\n",
    "print(my_list[2:])"
   ]
  },
  {
   "cell_type": "code",
   "execution_count": 19,
   "id": "beda1443",
   "metadata": {},
   "outputs": [
    {
     "name": "stdout",
     "output_type": "stream",
     "text": [
      "My name is Andy Kim\n"
     ]
    }
   ],
   "source": [
    "#formatting \n",
    "my_name = name[11:]\n",
    "print(f\"My name is {my_name}\")"
   ]
  },
  {
   "cell_type": "code",
   "execution_count": 21,
   "id": "36dfc99b",
   "metadata": {},
   "outputs": [
    {
     "name": "stdout",
     "output_type": "stream",
     "text": [
      "My age is 30\n"
     ]
    }
   ],
   "source": [
    "#you can even do calculation with f print\n",
    "print(f\"My age is {2023-1993}\")"
   ]
  },
  {
   "cell_type": "code",
   "execution_count": 24,
   "id": "d71970eb",
   "metadata": {},
   "outputs": [
    {
     "name": "stdout",
     "output_type": "stream",
     "text": [
      "Pi is: 3.14\n"
     ]
    }
   ],
   "source": [
    "#decimal formatting\n",
    "import math\n",
    "print(f\"Pi is: {math.pi:.2f}\")"
   ]
  },
  {
   "cell_type": "code",
   "execution_count": 28,
   "id": "bc4dcd4c",
   "metadata": {},
   "outputs": [
    {
     "data": {
      "text/plain": [
       "'Pi is 3.141592653589793'"
      ]
     },
     "execution_count": 28,
     "metadata": {},
     "output_type": "execute_result"
    }
   ],
   "source": [
    "#remember you can do same thing with format function\n",
    "\"Pi is {}\".format(math.pi)"
   ]
  },
  {
   "cell_type": "markdown",
   "id": "09314a8c",
   "metadata": {},
   "source": [
    "## Bytes"
   ]
  },
  {
   "cell_type": "code",
   "execution_count": 29,
   "id": "bffb8fce",
   "metadata": {},
   "outputs": [
    {
     "data": {
      "text/plain": [
       "b'\\x00\\x00\\x00\\x00'"
      ]
     },
     "execution_count": 29,
     "metadata": {},
     "output_type": "execute_result"
    }
   ],
   "source": [
    "#This code creates empty byte object 4 bytes long\n",
    "bytes(4)"
   ]
  },
  {
   "cell_type": "code",
   "execution_count": 32,
   "id": "e9a31ed6",
   "metadata": {},
   "outputs": [
    {
     "data": {
      "text/plain": [
       "b'\\xf0\\x9f\\x98\\x83'"
      ]
     },
     "execution_count": 32,
     "metadata": {},
     "output_type": "execute_result"
    }
   ],
   "source": [
    "#covert emoji into bytes\n",
    "simleyByte = bytes('😃','utf-8')\n",
    "simleyByte"
   ]
  },
  {
   "cell_type": "code",
   "execution_count": 34,
   "id": "760c63c2",
   "metadata": {},
   "outputs": [
    {
     "data": {
      "text/plain": [
       "'😃'"
      ]
     },
     "execution_count": 34,
     "metadata": {},
     "output_type": "execute_result"
    }
   ],
   "source": [
    "simleyByte.decode('utf-8')"
   ]
  },
  {
   "cell_type": "markdown",
   "id": "f725fd32",
   "metadata": {},
   "source": [
    "# Challenge\n",
    "\n",
    "Remember it is good idea to validate the input of method. Remember you can reverse order of the "
   ]
  },
  {
   "cell_type": "code",
   "execution_count": 64,
   "id": "fc998591",
   "metadata": {},
   "outputs": [],
   "source": [
    "def hexToDec(hex_str):\n",
    "    hexNumbers = {\n",
    "    '0': 0, '1': 1, '2': 2, '3': 3, '4': 4, '5': 5, '6': 6, '7': 7, '8': 8, '9': 9,\n",
    "    'A': 10, 'B': 11, 'C': 12, 'D': 13, 'E': 14, 'F': 15\n",
    "    }\n",
    "    \n",
    "    dec_num = 0\n",
    "    bit = 0 \n",
    "    \n",
    "    #check wether the input is string\n",
    "    if(type(hex_str) is not str):\n",
    "        print(\"Not String\")\n",
    "        return None\n",
    "    \n",
    "    #Validate the string contain hex values\n",
    "    for char in hex_str:\n",
    "        if char not in hexNumbers:\n",
    "            print(\"Not hex value\")\n",
    "            return None\n",
    "    \n",
    "    for char in hex_str[::-1]: \n",
    "        dec_num = dec_num + hexNumbers[char] * 16 ** bit\n",
    "        bit = bit + 1\n",
    "     \n",
    "    return dec_num\n",
    "            \n"
   ]
  },
  {
   "cell_type": "code",
   "execution_count": 53,
   "id": "0baa5acc",
   "metadata": {},
   "outputs": [
    {
     "name": "stdout",
     "output_type": "stream",
     "text": [
      "Not String\n"
     ]
    }
   ],
   "source": [
    "hexToDec(213)"
   ]
  },
  {
   "cell_type": "code",
   "execution_count": 65,
   "id": "5e0cc6f5",
   "metadata": {},
   "outputs": [
    {
     "data": {
      "text/plain": [
       "3932160"
      ]
     },
     "execution_count": 65,
     "metadata": {},
     "output_type": "execute_result"
    }
   ],
   "source": [
    "hexToDec('3C0000')"
   ]
  },
  {
   "cell_type": "code",
   "execution_count": null,
   "id": "83597778",
   "metadata": {},
   "outputs": [],
   "source": []
  }
 ],
 "metadata": {
  "kernelspec": {
   "display_name": "Python 3 (ipykernel)",
   "language": "python",
   "name": "python3"
  },
  "language_info": {
   "codemirror_mode": {
    "name": "ipython",
    "version": 3
   },
   "file_extension": ".py",
   "mimetype": "text/x-python",
   "name": "python",
   "nbconvert_exporter": "python",
   "pygments_lexer": "ipython3",
   "version": "3.10.12"
  }
 },
 "nbformat": 4,
 "nbformat_minor": 5
}
