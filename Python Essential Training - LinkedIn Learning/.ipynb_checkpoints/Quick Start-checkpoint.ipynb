{
 "cells": [
  {
   "cell_type": "markdown",
   "id": "8fb267cf",
   "metadata": {},
   "source": [
    "# Quick Start\n",
    "\n",
    "Jupyter notebook supports markdown mode to have title format like this and enter math equations."
   ]
  },
  {
   "cell_type": "markdown",
   "id": "b362cdab",
   "metadata": {},
   "source": [
    "---"
   ]
  },
  {
   "cell_type": "markdown",
   "id": "eb60b0ba",
   "metadata": {},
   "source": [
    "# Variables\n",
    "\n",
    "The naming conventions for python is using lowercase to avoid confusion with class. You can use built in type function to get the type of variable"
   ]
  },
  {
   "cell_type": "code",
   "execution_count": 11,
   "id": "e3ee9abc",
   "metadata": {},
   "outputs": [
    {
     "data": {
      "text/plain": [
       "float"
      ]
     },
     "execution_count": 11,
     "metadata": {},
     "output_type": "execute_result"
    }
   ],
   "source": [
    "#Example\n",
    "type(1.3)"
   ]
  },
  {
   "cell_type": "markdown",
   "id": "e11f384a",
   "metadata": {},
   "source": [
    "## Numbers"
   ]
  },
  {
   "cell_type": "code",
   "execution_count": 12,
   "id": "8988317a",
   "metadata": {},
   "outputs": [
    {
     "name": "stdout",
     "output_type": "stream",
     "text": [
      "(-1+0j)\n"
     ]
    }
   ],
   "source": [
    "#Complex number i = sqrt(-1). In python, the complex number is notated with j\n",
    "print(1j* 1j)"
   ]
  },
  {
   "cell_type": "markdown",
   "id": "9820ed1d",
   "metadata": {},
   "source": [
    "## String\n",
    "List of characters. You can concatenate and perform various function with a string"
   ]
  },
  {
   "cell_type": "code",
   "execution_count": 14,
   "id": "ca9a8389",
   "metadata": {},
   "outputs": [
    {
     "name": "stdout",
     "output_type": "stream",
     "text": [
      "Hello World!\n"
     ]
    }
   ],
   "source": [
    "my_str1 = 'Hello '\n",
    "my_str2 = 'World!'\n",
    "print(my_str1 + my_str2)"
   ]
  },
  {
   "cell_type": "markdown",
   "id": "a63f97d2",
   "metadata": {},
   "source": [
    "## Boolean\n",
    "The python is case sensitive programming language. For example booleans are expressed with capital letter."
   ]
  },
  {
   "cell_type": "code",
   "execution_count": 15,
   "id": "d4e0cc56",
   "metadata": {},
   "outputs": [
    {
     "data": {
      "text/plain": [
       "bool"
      ]
     },
     "execution_count": 15,
     "metadata": {},
     "output_type": "execute_result"
    }
   ],
   "source": [
    "#Example\n",
    "type(True)"
   ]
  },
  {
   "cell_type": "code",
   "execution_count": 16,
   "id": "e9b094c6",
   "metadata": {},
   "outputs": [
    {
     "data": {
      "text/plain": [
       "bool"
      ]
     },
     "execution_count": 16,
     "metadata": {},
     "output_type": "execute_result"
    }
   ],
   "source": [
    "type(False)"
   ]
  },
  {
   "cell_type": "markdown",
   "id": "e2fae79f",
   "metadata": {},
   "source": [
    "---\n",
    "# Data Structure\n",
    "\n",
    "\n",
    "## List\n",
    "List of data elements which maintains the defined order. List is mutable data structure which supports nested list."
   ]
  },
  {
   "cell_type": "code",
   "execution_count": 18,
   "id": "4ebe2335",
   "metadata": {},
   "outputs": [],
   "source": [
    "#Example\n",
    "my_list = [4,\"Hi\",[1,2,3]]"
   ]
  },
  {
   "cell_type": "code",
   "execution_count": 19,
   "id": "a7b116f5",
   "metadata": {},
   "outputs": [
    {
     "name": "stdout",
     "output_type": "stream",
     "text": [
      "3\n"
     ]
    }
   ],
   "source": [
    "#There are built in function for list like len. Note: list in the nested list considered as one element in the list.\n",
    "print(len(my_list))"
   ]
  },
  {
   "cell_type": "markdown",
   "id": "03939785",
   "metadata": {},
   "source": [
    "## Set\n",
    "Similar to list but items must be unique and order does not matter"
   ]
  },
  {
   "cell_type": "code",
   "execution_count": 21,
   "id": "b3014366",
   "metadata": {},
   "outputs": [
    {
     "name": "stdout",
     "output_type": "stream",
     "text": [
      "{1, 2, 3, 4}\n"
     ]
    }
   ],
   "source": [
    "#Unique property\n",
    "print(set([1,2,3,3,4]))"
   ]
  },
  {
   "cell_type": "code",
   "execution_count": 26,
   "id": "65c9420a",
   "metadata": {},
   "outputs": [
    {
     "name": "stdout",
     "output_type": "stream",
     "text": [
      "False\n",
      "True\n"
     ]
    }
   ],
   "source": [
    "#Order property\n",
    "#List\n",
    "print([1,2] == [2,1])\n",
    "\n",
    "print({1,2} == {2,1})"
   ]
  },
  {
   "cell_type": "markdown",
   "id": "c90dbe70",
   "metadata": {},
   "source": [
    "## Tuple\n",
    "Similar to list the order matters. Unlike list, tuples data structure is immutable. Tuple will not allocate additional memory for potenial edits. "
   ]
  },
  {
   "cell_type": "markdown",
   "id": "ffe5eb26",
   "metadata": {},
   "source": [
    "## Dictionary\n",
    "Key-value pair data structure such that the key must be unique similar to set. Similar to set you can create dictionary with duplicate key but python will get rid of the duplication"
   ]
  },
  {
   "cell_type": "code",
   "execution_count": 32,
   "id": "f83eb89d",
   "metadata": {},
   "outputs": [
    {
     "name": "stdout",
     "output_type": "stream",
     "text": [
      "blue\n"
     ]
    }
   ],
   "source": [
    "my_dict = {\n",
    "    'apple' : 'red',\n",
    "    'orange': 'orange',\n",
    "    'apple' : 'blue'\n",
    "}\n",
    "print(my_dict['apple'])"
   ]
  },
  {
   "cell_type": "markdown",
   "id": "3eec653c",
   "metadata": {},
   "source": [
    "---\n",
    "# Operators\n",
    "\n",
    "## Arithmatics"
   ]
  },
  {
   "cell_type": "code",
   "execution_count": 33,
   "id": "ee6d98f5",
   "metadata": {},
   "outputs": [
    {
     "data": {
      "text/plain": [
       "2"
      ]
     },
     "execution_count": 33,
     "metadata": {},
     "output_type": "execute_result"
    }
   ],
   "source": [
    "#Addition \n",
    "1+1"
   ]
  },
  {
   "cell_type": "code",
   "execution_count": 34,
   "id": "1f2c9cf4",
   "metadata": {},
   "outputs": [
    {
     "data": {
      "text/plain": [
       "4"
      ]
     },
     "execution_count": 34,
     "metadata": {},
     "output_type": "execute_result"
    }
   ],
   "source": [
    "#multiplication\n",
    "2*2"
   ]
  },
  {
   "cell_type": "code",
   "execution_count": 35,
   "id": "01bfe41d",
   "metadata": {},
   "outputs": [
    {
     "data": {
      "text/plain": [
       "2.0"
      ]
     },
     "execution_count": 35,
     "metadata": {},
     "output_type": "execute_result"
    }
   ],
   "source": [
    "#division\n",
    "4/2"
   ]
  },
  {
   "cell_type": "code",
   "execution_count": 37,
   "id": "687e26d1",
   "metadata": {},
   "outputs": [
    {
     "data": {
      "text/plain": [
       "2"
      ]
     },
     "execution_count": 37,
     "metadata": {},
     "output_type": "execute_result"
    }
   ],
   "source": [
    "#mod - provides remainder\n",
    "20 % 3"
   ]
  },
  {
   "cell_type": "markdown",
   "id": "dc876712",
   "metadata": {},
   "source": [
    "## Arithmatics String Operation"
   ]
  },
  {
   "cell_type": "code",
   "execution_count": 38,
   "id": "678979e7",
   "metadata": {},
   "outputs": [
    {
     "data": {
      "text/plain": [
       "'Hello  World!'"
      ]
     },
     "execution_count": 38,
     "metadata": {},
     "output_type": "execute_result"
    }
   ],
   "source": [
    "#Concatenation\n",
    "'Hello ' + \" World!\""
   ]
  },
  {
   "cell_type": "code",
   "execution_count": 41,
   "id": "7df7e687",
   "metadata": {},
   "outputs": [
    {
     "data": {
      "text/plain": [
       "'Hi Hi Hi !'"
      ]
     },
     "execution_count": 41,
     "metadata": {},
     "output_type": "execute_result"
    }
   ],
   "source": [
    "#Multiplication\n",
    "\"Hi \" * 3 + \"!\""
   ]
  },
  {
   "cell_type": "markdown",
   "id": "ad2c304b",
   "metadata": {},
   "source": [
    "## Comparison, Logical, Membership Operator"
   ]
  },
  {
   "cell_type": "code",
   "execution_count": 43,
   "id": "16af6d77",
   "metadata": {},
   "outputs": [
    {
     "data": {
      "text/plain": [
       "False"
      ]
     },
     "execution_count": 43,
     "metadata": {},
     "output_type": "execute_result"
    }
   ],
   "source": [
    "#equal\n",
    "40==41"
   ]
  },
  {
   "cell_type": "code",
   "execution_count": 44,
   "id": "ba8e99f8",
   "metadata": {},
   "outputs": [
    {
     "data": {
      "text/plain": [
       "True"
      ]
     },
     "execution_count": 44,
     "metadata": {},
     "output_type": "execute_result"
    }
   ],
   "source": [
    "#greater than/less than\n",
    "40<41"
   ]
  },
  {
   "cell_type": "code",
   "execution_count": 45,
   "id": "f4fa1a15",
   "metadata": {},
   "outputs": [
    {
     "data": {
      "text/plain": [
       "True"
      ]
     },
     "execution_count": 45,
     "metadata": {},
     "output_type": "execute_result"
    }
   ],
   "source": [
    "#greater than or less than equal to \n",
    "40<=40"
   ]
  },
  {
   "cell_type": "markdown",
   "id": "42e50806",
   "metadata": {},
   "source": [
    "## Logical Operator (or, and, not)"
   ]
  },
  {
   "cell_type": "code",
   "execution_count": 46,
   "id": "9b427b9a",
   "metadata": {},
   "outputs": [
    {
     "data": {
      "text/plain": [
       "True"
      ]
     },
     "execution_count": 46,
     "metadata": {},
     "output_type": "execute_result"
    }
   ],
   "source": [
    "True or False"
   ]
  },
  {
   "cell_type": "code",
   "execution_count": 47,
   "id": "946d1d00",
   "metadata": {},
   "outputs": [
    {
     "data": {
      "text/plain": [
       "False"
      ]
     },
     "execution_count": 47,
     "metadata": {},
     "output_type": "execute_result"
    }
   ],
   "source": [
    "True and False"
   ]
  },
  {
   "cell_type": "code",
   "execution_count": 48,
   "id": "026a020f",
   "metadata": {},
   "outputs": [
    {
     "data": {
      "text/plain": [
       "True"
      ]
     },
     "execution_count": 48,
     "metadata": {},
     "output_type": "execute_result"
    }
   ],
   "source": [
    "True and True"
   ]
  },
  {
   "cell_type": "code",
   "execution_count": 50,
   "id": "752833c4",
   "metadata": {},
   "outputs": [
    {
     "data": {
      "text/plain": [
       "False"
      ]
     },
     "execution_count": 50,
     "metadata": {},
     "output_type": "execute_result"
    }
   ],
   "source": [
    "not True"
   ]
  },
  {
   "cell_type": "markdown",
   "id": "77399d44",
   "metadata": {},
   "source": [
    "## Membership "
   ]
  },
  {
   "cell_type": "code",
   "execution_count": 52,
   "id": "17118b42",
   "metadata": {},
   "outputs": [
    {
     "data": {
      "text/plain": [
       "False"
      ]
     },
     "execution_count": 52,
     "metadata": {},
     "output_type": "execute_result"
    }
   ],
   "source": [
    "10 in [1,3,3]"
   ]
  },
  {
   "cell_type": "markdown",
   "id": "3aa4dcca",
   "metadata": {},
   "source": [
    "'Cat' in ['Cat','Dog']"
   ]
  },
  {
   "cell_type": "code",
   "execution_count": 55,
   "id": "84df9963",
   "metadata": {},
   "outputs": [
    {
     "data": {
      "text/plain": [
       "True"
      ]
     },
     "execution_count": 55,
     "metadata": {},
     "output_type": "execute_result"
    }
   ],
   "source": [
    "10 not in [1,2,3]"
   ]
  },
  {
   "cell_type": "markdown",
   "id": "973b8d60",
   "metadata": {},
   "source": [
    "# Control Flow\n",
    "\n",
    "## If/Else Statement"
   ]
  },
  {
   "cell_type": "code",
   "execution_count": 3,
   "id": "eb2b098e",
   "metadata": {},
   "outputs": [
    {
     "name": "stdout",
     "output_type": "stream",
     "text": [
      "a is false\n",
      "This gets printed every time\n"
     ]
    }
   ],
   "source": [
    "a = False\n",
    "\n",
    "if a:\n",
    "    print(\"a is true\")\n",
    "else:\n",
    "    print(\"a is false\")\n",
    "\n",
    "print(\"This gets printed every time\")\n",
    "\n",
    "#you can have nested if statement to test multiple conditions"
   ]
  },
  {
   "cell_type": "markdown",
   "id": "a0678e56",
   "metadata": {},
   "source": [
    "## Loops & While"
   ]
  },
  {
   "cell_type": "code",
   "execution_count": 4,
   "id": "3620ac25",
   "metadata": {},
   "outputs": [
    {
     "name": "stdout",
     "output_type": "stream",
     "text": [
      "1\n",
      "2\n",
      "3\n",
      "4\n",
      "5\n"
     ]
    }
   ],
   "source": [
    "#python will iterate through iterable items in a loop\n",
    "my_list = [1,2,3,4,5]\n",
    "\n",
    "for item in my_list:\n",
    "    print(item)"
   ]
  },
  {
   "cell_type": "code",
   "execution_count": 6,
   "id": "5ea55226",
   "metadata": {},
   "outputs": [
    {
     "name": "stdout",
     "output_type": "stream",
     "text": [
      "1\n",
      "2\n",
      "3\n",
      "4\n",
      "5\n"
     ]
    }
   ],
   "source": [
    "#python repeat a block of code based on the condition through while loop\n",
    "a = 0 \n",
    "\n",
    "while a < len(my_list):\n",
    "    print(my_list[a])\n",
    "    a = a + 1"
   ]
  },
  {
   "cell_type": "markdown",
   "id": "a31b5064",
   "metadata": {},
   "source": [
    "# Functions, Class, and Objects"
   ]
  },
  {
   "cell_type": "code",
   "execution_count": 22,
   "id": "a9ecf194",
   "metadata": {},
   "outputs": [],
   "source": [
    "#function is block of code that you can call and execute which may or may not return output\n",
    "#class connection of variable of function to better manage your code \n",
    "#class name are capitalized to distinguished from functions\n",
    "\n",
    "class Dog: \n",
    "    def __init__(self, name):\n",
    "        self.name = name\n",
    "        self.legs = 4\n",
    "        \n",
    "    def speak(self):\n",
    "        print(self.name + \" says Bark!\")"
   ]
  },
  {
   "cell_type": "code",
   "execution_count": 23,
   "id": "9c7882e7",
   "metadata": {},
   "outputs": [],
   "source": [
    "my_dog = Dog(\"Fluffy\")"
   ]
  },
  {
   "cell_type": "code",
   "execution_count": 24,
   "id": "09fc2641",
   "metadata": {},
   "outputs": [
    {
     "name": "stdout",
     "output_type": "stream",
     "text": [
      "Fluffy says Bark!\n"
     ]
    }
   ],
   "source": [
    "my_dog.speak()"
   ]
  },
  {
   "cell_type": "markdown",
   "id": "721b121a",
   "metadata": {},
   "source": [
    "# Challenge"
   ]
  },
  {
   "cell_type": "code",
   "execution_count": 33,
   "id": "9d6bfade",
   "metadata": {},
   "outputs": [],
   "source": [
    "#This is factorial functions\n",
    "\n",
    "def factorial(num):\n",
    "    \n",
    "    factorial = 1\n",
    "    \n",
    "    #validate the input is integer\n",
    "    if type(num) is not int or num < 0:\n",
    "        return None\n",
    "    \n",
    "    if num == 0:\n",
    "        return 1\n",
    "    \n",
    "    while num > 0:\n",
    "        factorial = factorial * num\n",
    "        num = num - 1\n",
    "    return factorial"
   ]
  },
  {
   "cell_type": "code",
   "execution_count": 35,
   "id": "5ebc5320",
   "metadata": {},
   "outputs": [
    {
     "data": {
      "text/plain": [
       "6"
      ]
     },
     "execution_count": 35,
     "metadata": {},
     "output_type": "execute_result"
    }
   ],
   "source": [
    "factorial(3)"
   ]
  },
  {
   "cell_type": "code",
   "execution_count": 36,
   "id": "0ddae728",
   "metadata": {},
   "outputs": [],
   "source": [
    "#this is factorial function with recusion\n",
    "\n",
    "def factorial_recur(num):\n",
    "    #validate the input is integer\n",
    "    if type(num) is not int or num < 0:\n",
    "        return None\n",
    "    \n",
    "    if num == 0:\n",
    "        return 1\n",
    "    \n",
    "    return num * factorial_recur(num-1)"
   ]
  },
  {
   "cell_type": "code",
   "execution_count": 37,
   "id": "aaa9f8d3",
   "metadata": {},
   "outputs": [
    {
     "data": {
      "text/plain": [
       "6"
      ]
     },
     "execution_count": 37,
     "metadata": {},
     "output_type": "execute_result"
    }
   ],
   "source": [
    "factorial_recur(3)"
   ]
  },
  {
   "cell_type": "code",
   "execution_count": null,
   "id": "e5f8708e",
   "metadata": {},
   "outputs": [],
   "source": []
  }
 ],
 "metadata": {
  "kernelspec": {
   "display_name": "Python 3 (ipykernel)",
   "language": "python",
   "name": "python3"
  },
  "language_info": {
   "codemirror_mode": {
    "name": "ipython",
    "version": 3
   },
   "file_extension": ".py",
   "mimetype": "text/x-python",
   "name": "python",
   "nbconvert_exporter": "python",
   "pygments_lexer": "ipython3",
   "version": "3.10.12"
  }
 },
 "nbformat": 4,
 "nbformat_minor": 5
}
